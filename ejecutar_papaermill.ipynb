{
 "cells": [
  {
   "cell_type": "code",
   "execution_count": null,
   "id": "02cf7c3f",
   "metadata": {},
   "outputs": [],
   "source": [
    "pm.execute_notebook(\n",
    "    'analisis_nutrientes.ipynb',\n",
    "    'salida_analisis.ipynb',\n",
    "    parameters=dict(\n",
    "        archivo_csv='nutrients.integrated.20251010.csv'\n",
    "    )\n",
    ")"
   ]
  }
 ],
 "metadata": {
  "language_info": {
   "name": "python"
  }
 },
 "nbformat": 4,
 "nbformat_minor": 5
}
