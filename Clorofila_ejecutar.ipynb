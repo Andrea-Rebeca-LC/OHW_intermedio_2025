{
 "cells": [
  {
   "cell_type": "code",
   "execution_count": 1,
   "id": "62a92da7",
   "metadata": {},
   "outputs": [
    {
     "name": "stderr",
     "output_type": "stream",
     "text": [
      "Passed unknown parameter: ruta_nc\n",
      "Input notebook does not contain a cell with tag 'parameters'\n",
      "c:\\Users\\Lab\\miniconda3\\Lib\\site-packages\\tqdm\\auto.py:21: TqdmWarning: IProgress not found. Please update jupyter and ipywidgets. See https://ipywidgets.readthedocs.io/en/stable/user_install.html\n",
      "  from .autonotebook import tqdm as notebook_tqdm\n",
      "Executing: 100%|██████████| 5/5 [01:28<00:00, 17.68s/cell]\n"
     ]
    },
    {
     "name": "stdout",
     "output_type": "stream",
     "text": [
      " Reporte generado en HTML.\n",
      "STDOUT:\n",
      " \n",
      "STDERR:\n",
      " [NbConvertApp] Converting notebook C:\\Users\\Lab\\Documents\\OHW_intermedio_2025\\Clorofila_espacial.ipynb to html\n",
      "[NbConvertApp] WARNING | Alternative text is missing on 3 image(s).\n",
      "[NbConvertApp] Writing 1218447 bytes to C:\\Users\\Lab\\Documents\\OHW_intermedio_2025\\Clorofila_espacial.html\n",
      "\n"
     ]
    }
   ],
   "source": [
    "import papermill as pm\n",
    "import subprocess\n",
    "\n",
    "entrada = r\"C:\\Users\\Lab\\Documents\\OHW_intermedio_2025\\Clorofila_espacial.ipynb\"\n",
    "salida = r\"C:\\Users\\Lab\\Documents\\OHW_intermedio_2025\\Clorofila_espacial.ipynb\"\n",
    "\n",
    "pm.execute_notebook(\n",
    "    entrada,\n",
    "    salida,\n",
    "    parameters=dict(\n",
    "        ruta_nc = r\"C:\\Users\\Lab\\Documents\\imagenes_S2\\S2B_MSI_2025_04_19_17_47_43_T13QCF_L3_ChlMDN_10m.nc\"\n",
    "    )\n",
    ")\n",
    "\n",
    "command = f'python -m jupyter nbconvert --to html --no-input \"{salida}\"'\n",
    "result = subprocess.run(command, shell=True, capture_output=True, text=True)\n",
    "\n",
    "print(\" Reporte generado en HTML.\")\n",
    "print(\"STDOUT:\\n\", result.stdout)\n",
    "print(\"STDERR:\\n\", result.stderr)"
   ]
  }
 ],
 "metadata": {
  "kernelspec": {
   "display_name": "base",
   "language": "python",
   "name": "python3"
  },
  "language_info": {
   "codemirror_mode": {
    "name": "ipython",
    "version": 3
   },
   "file_extension": ".py",
   "mimetype": "text/x-python",
   "name": "python",
   "nbconvert_exporter": "python",
   "pygments_lexer": "ipython3",
   "version": "3.13.2"
  }
 },
 "nbformat": 4,
 "nbformat_minor": 5
}
