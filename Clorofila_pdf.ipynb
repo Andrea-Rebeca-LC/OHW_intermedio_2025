{
 "cells": [
  {
   "cell_type": "code",
   "execution_count": null,
   "id": "d9b8618b",
   "metadata": {},
   "outputs": [
    {
     "name": "stderr",
     "output_type": "stream",
     "text": [
      "Passed unknown parameter: ruta_nc\n",
      "c:\\Users\\Lab\\miniconda3\\Lib\\site-packages\\tqdm\\auto.py:21: TqdmWarning: IProgress not found. Please update jupyter and ipywidgets. See https://ipywidgets.readthedocs.io/en/stable/user_install.html\n",
      "  from .autonotebook import tqdm as notebook_tqdm\n",
      "Executing:  10%|█         | 1/10 [00:02<00:23,  2.64s/cell]"
     ]
    }
   ],
   "source": [
    "import papermill as pm\n",
    "import subprocess\n",
    "\n",
    "entrada = r\"C:\\Users\\Lab\\Documents\\OHW_intermedio_2025\\Clorofila_espacial.ipynb\"\n",
    "salida = r\"C:\\Users\\Lab\\Documents\\OHW_intermedio_2025\\Clorofila_espacial_salida.ipynb\"\n",
    "\n",
    "# Ejecuta el notebook con el parámetro deseado\n",
    "pm.execute_notebook(\n",
    "    entrada,\n",
    "    salida,\n",
    "    parameters=dict(\n",
    "        ruta_nc=r\"C:\\Users\\Lab\\Documents\\imagenes_S2\\S2B_MSI_2025_04_19_17_47_43_T13QCF_L3_ChlMDN_10m.nc\"\n",
    "    )\n",
    ")\n",
    "\n",
    "# Convierte el notebook ejecutado a PDF\n",
    "command = f'jupyter nbconvert --to pdf \"{salida}\"'\n",
    "result = subprocess.run(command, shell=True, capture_output=True, text=True)\n",
    "\n",
    "print(\"Reporte generado en PDF.\")\n",
    "print(\"STDOUT:\\n\", result.stdout)\n",
    "print(\"STDERR:\\n\", result.stderr)"
   ]
  }
 ],
 "metadata": {
  "kernelspec": {
   "display_name": "base",
   "language": "python",
   "name": "python3"
  },
  "language_info": {
   "codemirror_mode": {
    "name": "ipython",
    "version": 3
   },
   "file_extension": ".py",
   "mimetype": "text/x-python",
   "name": "python",
   "nbconvert_exporter": "python",
   "pygments_lexer": "ipython3",
   "version": "3.13.2"
  }
 },
 "nbformat": 4,
 "nbformat_minor": 5
}
